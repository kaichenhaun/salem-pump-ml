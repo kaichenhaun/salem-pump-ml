{
 "cells": [
  {
   "cell_type": "code",
   "execution_count": 6,
   "id": "4cb60847",
   "metadata": {},
   "outputs": [],
   "source": [
    "import pandas as pd\n",
    "import matplotlib.pyplot as plt\n",
    "from prophet import Prophet"
   ]
  },
  {
   "cell_type": "code",
   "execution_count": 7,
   "id": "63473c1b",
   "metadata": {},
   "outputs": [],
   "source": [
    "import seaborn as sns"
   ]
  },
  {
   "cell_type": "code",
   "execution_count": 8,
   "id": "b5f61764",
   "metadata": {},
   "outputs": [],
   "source": [
    "from sklearn.preprocessing import OrdinalEncoder"
   ]
  },
  {
   "cell_type": "code",
   "execution_count": 9,
   "id": "edc4864a",
   "metadata": {},
   "outputs": [],
   "source": [
    "all_mtn_path = 'Pump_csv_files/ALLMNTVIEWDATA.csv'\n",
    "df_mtnview = pd.read_csv(all_mtn_path, header = None)"
   ]
  },
  {
   "cell_type": "code",
   "execution_count": 10,
   "id": "c130195c",
   "metadata": {},
   "outputs": [
    {
     "data": {
      "text/html": [
       "<div>\n",
       "<style scoped>\n",
       "    .dataframe tbody tr th:only-of-type {\n",
       "        vertical-align: middle;\n",
       "    }\n",
       "\n",
       "    .dataframe tbody tr th {\n",
       "        vertical-align: top;\n",
       "    }\n",
       "\n",
       "    .dataframe thead th {\n",
       "        text-align: right;\n",
       "    }\n",
       "</style>\n",
       "<table border=\"1\" class=\"dataframe\">\n",
       "  <thead>\n",
       "    <tr style=\"text-align: right;\">\n",
       "      <th></th>\n",
       "      <th>0</th>\n",
       "      <th>1</th>\n",
       "      <th>2</th>\n",
       "    </tr>\n",
       "  </thead>\n",
       "  <tbody>\n",
       "    <tr>\n",
       "      <th>0</th>\n",
       "      <td>WPS_MNTVIEW_24VDC_BATTERY_MODE</td>\n",
       "      <td>01/26/2021 15:34:53</td>\n",
       "      <td>NaN</td>\n",
       "    </tr>\n",
       "    <tr>\n",
       "      <th>1</th>\n",
       "      <td>WPS_MNTVIEW_24VDC_BATTERY_MODE</td>\n",
       "      <td>01/26/2021 15:36:08</td>\n",
       "      <td>NaN</td>\n",
       "    </tr>\n",
       "    <tr>\n",
       "      <th>2</th>\n",
       "      <td>WPS_MNTVIEW_24VDC_BATTERY_MODE</td>\n",
       "      <td>01/26/2021 15:36:23</td>\n",
       "      <td>0</td>\n",
       "    </tr>\n",
       "    <tr>\n",
       "      <th>3</th>\n",
       "      <td>WPS_MNTVIEW_24VDC_BATTERY_MODE</td>\n",
       "      <td>01/26/2021 17:30:22</td>\n",
       "      <td>0</td>\n",
       "    </tr>\n",
       "    <tr>\n",
       "      <th>4</th>\n",
       "      <td>WPS_MNTVIEW_24VDC_BATTERY_MODE</td>\n",
       "      <td>01/26/2021 19:20:51</td>\n",
       "      <td>0</td>\n",
       "    </tr>\n",
       "  </tbody>\n",
       "</table>\n",
       "</div>"
      ],
      "text/plain": [
       "                                0                    1    2\n",
       "0  WPS_MNTVIEW_24VDC_BATTERY_MODE  01/26/2021 15:34:53  NaN\n",
       "1  WPS_MNTVIEW_24VDC_BATTERY_MODE  01/26/2021 15:36:08  NaN\n",
       "2  WPS_MNTVIEW_24VDC_BATTERY_MODE  01/26/2021 15:36:23    0\n",
       "3  WPS_MNTVIEW_24VDC_BATTERY_MODE  01/26/2021 17:30:22    0\n",
       "4  WPS_MNTVIEW_24VDC_BATTERY_MODE  01/26/2021 19:20:51    0"
      ]
     },
     "execution_count": 10,
     "metadata": {},
     "output_type": "execute_result"
    }
   ],
   "source": [
    "df_mtnview.head()"
   ]
  },
  {
   "cell_type": "code",
   "execution_count": 11,
   "id": "9b093b3a",
   "metadata": {},
   "outputs": [
    {
     "data": {
      "text/plain": [
       "array(['WPS_MNTVIEW_24VDC_BATTERY_MODE',\n",
       "       'WPS_MNTVIEW_ATS#1_SWITCH_POSITION',\n",
       "       'WPS_MNTVIEW_ATS#1_UTILITY_PWR_AVAIL',\n",
       "       'WPS_MNTVIEW_ATS#2_SWITCH_POSITION',\n",
       "       'WPS_MNTVIEW_ATS#2_UTILITY_PWR_AVAIL', 'WPS_MNTVIEW_BUSS#1_FAIL',\n",
       "       'WPS_MNTVIEW_BUSS#2_FAIL', 'WPS_MNTVIEW_CHLORINE_OUT_OF_RANGE',\n",
       "       'WPS_MNTVIEW_CL2_RESIDUAL', 'WPS_MNTVIEW_DISCHARGE_FLOW',\n",
       "       'WPS_MNTVIEW_DISCHARGE_FLOW_TOTAL',\n",
       "       'WPS_MNTVIEW_DISCHARGE_PRESSURE',\n",
       "       'WPS_MNTVIEW_DISCHARGE_PRESSURE_OUT_OF_RANGE',\n",
       "       'WPS_MNTVIEW_FLOW_OUT_OF_RANGE', 'WPS_MNTVIEW_FLOW_VAULT_FLOOD',\n",
       "       'WPS_MNTVIEW_FUEL_LEVEL', 'WPS_MNTVIEW_FUEL_LEVEL_OUT_OF_RANGE',\n",
       "       'WPS_MNTVIEW_GENERATOR_NOT_IN_AUTO',\n",
       "       'WPS_MNTVIEW_GENERATOR_RUNNING', nan,\n",
       "       'WPS_MNTVIEW_GENERATOR_TROUBLE', 'WPS_MNTVIEW_INTRUSION_ALARM',\n",
       "       'WPS_MNTVIEW_INTRUSION_TAMPER', 'WPS_MNTVIEW_P1_AUTO',\n",
       "       'WPS_MNTVIEW_P1_CLA_VALVE_FAIL_TO_CLOSE',\n",
       "       'WPS_MNTVIEW_P1_CLAY_VALVE_POSITION', 'WPS_MNTVIEW_P1_FAIL',\n",
       "       'WPS_MNTVIEW_P1_FLOW_FAIL', 'WPS_MNTVIEW_P1_RUNNING',\n",
       "       'WPS_MNTVIEW_P1_RUNTIME_HOURS', 'WPS_MNTVIEW_P2_AUTO',\n",
       "       'WPS_MNTVIEW_P2_CLA_VALVE_FAIL_TO_CLOSE',\n",
       "       'WPS_MNTVIEW_P2_CLAY_VALVE_POSITION', 'WPS_MNTVIEW_P2_FAIL',\n",
       "       'WPS_MNTVIEW_P2_FLOW_FAIL', 'WPS_MNTVIEW_P2_RUNNING',\n",
       "       'WPS_MNTVIEW_P2_RUNTIME_HOURS', 'WPS_MNTVIEW_P3_AUTO',\n",
       "       'WPS_MNTVIEW_P3_CLA_VALVE_FAIL_TO_CLOSE',\n",
       "       'WPS_MNTVIEW_P3_CLAY_VALVE_POSITION', 'WPS_MNTVIEW_P3_FAIL',\n",
       "       'WPS_MNTVIEW_P3_FLOW_FAIL', 'WPS_MNTVIEW_P3_RUNNING',\n",
       "       'WPS_MNTVIEW_P3_RUNTIME_HOURS', 'WPS_MNTVIEW_P4_AUTO',\n",
       "       'WPS_MNTVIEW_P4_CLA_VALVE_FAIL_TO_CLOSE',\n",
       "       'WPS_MNTVIEW_P4_CLAY_VALVE_POSITION', 'WPS_MNTVIEW_P4_FAIL',\n",
       "       'WPS_MNTVIEW_P4_FLOW_FAIL', 'WPS_MNTVIEW_P4_RUNNING',\n",
       "       'WPS_MNTVIEW_P4_RUNTIME_HOURS', 'WPS_MNTVIEW_PLC_BATTERY_FAIL',\n",
       "       'WPS_MNTVIEW_PLC_MAJOR_FAULT', 'WPS_MNTVIEW_PLC_MINOR_FAULT',\n",
       "       'WPS_MNTVIEW_RESERVOIR_LEVEL_OUT_OF_RANGE',\n",
       "       'WPS_MNTVIEW_SUCTION_PRESSURE',\n",
       "       'WPS_MNTVIEW_SUCTION_PRESSURE_OUT_OF_RANGE'], dtype=object)"
      ]
     },
     "execution_count": 11,
     "metadata": {},
     "output_type": "execute_result"
    }
   ],
   "source": [
    "df_mtnview[0].unique()"
   ]
  },
  {
   "cell_type": "code",
   "execution_count": 12,
   "id": "69ac91c8",
   "metadata": {},
   "outputs": [],
   "source": [
    "df_discharge = df_mtnview.loc[df_mtnview[0] == 'WPS_MNTVIEW_DISCHARGE_FLOW']"
   ]
  },
  {
   "cell_type": "code",
   "execution_count": 13,
   "id": "ebae674b",
   "metadata": {},
   "outputs": [
    {
     "data": {
      "text/html": [
       "<div>\n",
       "<style scoped>\n",
       "    .dataframe tbody tr th:only-of-type {\n",
       "        vertical-align: middle;\n",
       "    }\n",
       "\n",
       "    .dataframe tbody tr th {\n",
       "        vertical-align: top;\n",
       "    }\n",
       "\n",
       "    .dataframe thead th {\n",
       "        text-align: right;\n",
       "    }\n",
       "</style>\n",
       "<table border=\"1\" class=\"dataframe\">\n",
       "  <thead>\n",
       "    <tr style=\"text-align: right;\">\n",
       "      <th></th>\n",
       "      <th>0</th>\n",
       "      <th>1</th>\n",
       "      <th>2</th>\n",
       "    </tr>\n",
       "  </thead>\n",
       "  <tbody>\n",
       "    <tr>\n",
       "      <th>30029</th>\n",
       "      <td>WPS_MNTVIEW_DISCHARGE_FLOW</td>\n",
       "      <td>04/03/2020 16:24:07</td>\n",
       "      <td>0</td>\n",
       "    </tr>\n",
       "    <tr>\n",
       "      <th>30030</th>\n",
       "      <td>WPS_MNTVIEW_DISCHARGE_FLOW</td>\n",
       "      <td>04/03/2020 18:14:36</td>\n",
       "      <td>0</td>\n",
       "    </tr>\n",
       "    <tr>\n",
       "      <th>30031</th>\n",
       "      <td>WPS_MNTVIEW_DISCHARGE_FLOW</td>\n",
       "      <td>04/03/2020 18:34:41</td>\n",
       "      <td>0</td>\n",
       "    </tr>\n",
       "    <tr>\n",
       "      <th>30032</th>\n",
       "      <td>WPS_MNTVIEW_DISCHARGE_FLOW</td>\n",
       "      <td>04/03/2020 18:34:56</td>\n",
       "      <td>2509</td>\n",
       "    </tr>\n",
       "    <tr>\n",
       "      <th>30033</th>\n",
       "      <td>WPS_MNTVIEW_DISCHARGE_FLOW</td>\n",
       "      <td>04/03/2020 18:51:16</td>\n",
       "      <td>2509</td>\n",
       "    </tr>\n",
       "  </tbody>\n",
       "</table>\n",
       "</div>"
      ],
      "text/plain": [
       "                                0                    1     2\n",
       "30029  WPS_MNTVIEW_DISCHARGE_FLOW  04/03/2020 16:24:07     0\n",
       "30030  WPS_MNTVIEW_DISCHARGE_FLOW  04/03/2020 18:14:36     0\n",
       "30031  WPS_MNTVIEW_DISCHARGE_FLOW  04/03/2020 18:34:41     0\n",
       "30032  WPS_MNTVIEW_DISCHARGE_FLOW  04/03/2020 18:34:56  2509\n",
       "30033  WPS_MNTVIEW_DISCHARGE_FLOW  04/03/2020 18:51:16  2509"
      ]
     },
     "execution_count": 13,
     "metadata": {},
     "output_type": "execute_result"
    }
   ],
   "source": [
    "df_discharge.head()"
   ]
  },
  {
   "cell_type": "code",
   "execution_count": 14,
   "id": "05634137",
   "metadata": {},
   "outputs": [
    {
     "data": {
      "text/plain": [
       "array(['0', '2509', '2496', '2515.5', '2470', '2476.5', '2483', '2457',\n",
       "       '2463.5', '2522', '2502.5', '2489.5', '2437.5', '2450.5', '2444',\n",
       "       '2385.5', '2528.5', '2431', '819', '2379', '793', '292.5',\n",
       "       '1280.5', '2151.5', '1911', '422.5', '1748.5', '2405', '5915',\n",
       "       '6162', '4478.5', '4498', '494', '2262', '1670.5', '2015', '19.5',\n",
       "       '2080', '2353', '611', '637', '2255.5', '2301', '6.5', '2002',\n",
       "       '1696.5', '78', '1111.5', '916.5', '2073.5', '143', '1391', '2340',\n",
       "       '2418', '2184', '2047.5', '1033.5', '13', '461.5', '1618.5',\n",
       "       '2138.5', '2392', '1774.5', '903.5', '2372.5', '279.5', '1794',\n",
       "       '2008.5', '1638', '2535', '1742', '1982.5', '1534', '2093', '2366',\n",
       "       '2288', '1781', '1573', '32.5', '357.5', '1898', '2307.5', '2171',\n",
       "       '2398.5', '2327', '1274', '1969.5', '1456', '2314', '1995.5',\n",
       "       '97.5', '2424.5', '975', '2177.5', '2060.5', '1235', '45.5', '676',\n",
       "       '1930.5', '1846', '1976', '195', '2320.5', '1352', '2223', '2028',\n",
       "       '2249', '2034.5', '1657.5', '162.5', '1040', '1157', '1137.5',\n",
       "       '2164.5', '1443', '84.5', '2268.5', '2541.5', '2580.5', '4972.5',\n",
       "       '4901', '4823', '4946.5', '4868.5', '4933.5', '4875', '4855.5',\n",
       "       '4849', '4920.5', '4927', '4888', '4842.5', '4914', '4816.5',\n",
       "       '4894.5', '4803.5', '4790.5', '4797', '4836', '4862', '4777.5',\n",
       "       '4764.5', '4738.5', '4810', '4732', '3490.5', '2788.5', '4907.5',\n",
       "       '4940', '4829.5', '4771', '4758', '4751.5', '2554.5', '4881.5',\n",
       "       '4784', '26', 'State: 246(Set: 0)', 'State: 312(Set: 0)', '4693',\n",
       "       '4381', '2866.5', '4745', '4186', '1449.5', '5018', '4992', '4966',\n",
       "       '4953', '4998.5', '3939', '4563', '4530.5', '4329', '4979',\n",
       "       '4959.5', '4290', '3705', '3516.5', '4056', '4641', '6298.5',\n",
       "       '6493.5', '6500', '6487', '6435', '6292', '6207.5', '4680',\n",
       "       '4660.5', '4667', '4725.5', '4654', '4634.5', '4673.5', '4589',\n",
       "       '4985.5', '5011.5', '4719', '4712.5', '754', '4225', '52',\n",
       "       '3269.5', '1943.5', '4088.5', '3139.5', '5031', '5044', '5037.5',\n",
       "       '3776.5', '6266', '6480.5', '6409', '6214', '6305', '6311.5',\n",
       "       '4686.5', '4699.5', '4628', '2411.5', '2548', '3055', '4472',\n",
       "       '5005', '2561', '2600', '5024.5', '4706', '2905.5', '4387.5',\n",
       "       '2294.5', '2197', '4615', '2574', '3627', '2639', '1469', '4621.5',\n",
       "       '1703', '2216.5', '4439.5', '3464.5', '2210', '3146', '2567.5',\n",
       "       '273', '2086.5', '2964', '4465.5', '2775.5', '949', '3698.5',\n",
       "       '2359.5', '2606.5', '962', '1891.5', '3029', '1313', '299',\n",
       "       '2346.5', '2333.5', '767', '3471', '1462.5', '4537', '4524', '351',\n",
       "       '1664', '1027', '2021.5', '2203.5', '552.5', '247', '1495', '2236',\n",
       "       '533', '2106', '526.5', '877.5', '260', '851.5', '806', '1326',\n",
       "       '2125.5', '1950', '1254.5', '604.5', '1371.5', '403', '1833',\n",
       "       '1267.5', '2132', '780', '1989', '1560', '513.5', '2112.5', '1118',\n",
       "       '1677', '4348.5', '4511', '4459', '58.5', '1924', '1859', '1410.5',\n",
       "       '1807', '2067', '1319.5', '1761.5', '1378', '1196', '968.5',\n",
       "       '188.5', '1729', '1865.5', '1261', '760.5', '1690', '1365', '286',\n",
       "       '435.5', '2281.5', '1644.5', '1527.5', '825.5', '572', '1709.5',\n",
       "       '221', '1755', '2054', '1605.5', '1586', '565.5', '1579.5',\n",
       "       '1852.5', '4556.5', '4485', '2158', '448.5', '1053', '1599',\n",
       "       '2119', '1547', '1183', '377', '1430', '1020.5', '39', '208',\n",
       "       '871', '799.5', '546', '71.5', '1189.5', '1800.5', '591.5',\n",
       "       '1085.5', '227.5', '728', '1287', '149.5', '838.5', '331.5',\n",
       "       '1163.5', '617.5', '1956.5', '2242.5', '1241.5', '481', '2099.5',\n",
       "       '65', '520', '2275', '1007.5', '1735.5', '578.5', '708.5', '136.5',\n",
       "       '663', '1716', '630.5', '1176.5', '2190.5', '994.5', '1215.5',\n",
       "       '1384.5', '1001', '1553.5', '1631.5', '3347.5', '2912', '3178.5',\n",
       "       '1592.5', '117', '1787.5', '4114.5', '4394', '4244.5', '4322.5',\n",
       "       '4608.5', '2704', '2925', '2613', '5050.5', '5057', '4192.5',\n",
       "       '5063.5', '1540.5', '1222', '4140.5', '2671.5', '624', '4374.5',\n",
       "       '3568.5', '2723.5', '2931.5', '2827.5', '4309.5', '3607.5',\n",
       "       '2970.5', '1826.5', '4452.5', '2145', '4212', '2587', '4595.5',\n",
       "       '4407', '3250', '4491.5', '4335.5', '4582.5', '2957.5', '2665',\n",
       "       '3120'], dtype=object)"
      ]
     },
     "execution_count": 14,
     "metadata": {},
     "output_type": "execute_result"
    }
   ],
   "source": [
    "df_discharge[2].unique()"
   ]
  },
  {
   "cell_type": "code",
   "execution_count": 15,
   "id": "eca92e67",
   "metadata": {},
   "outputs": [],
   "source": [
    "df_discharge = df_discharge[~df_discharge[2].str.contains(\"State\", na=False)]"
   ]
  },
  {
   "cell_type": "code",
   "execution_count": 16,
   "id": "c3a71cb1",
   "metadata": {},
   "outputs": [
    {
     "data": {
      "text/plain": [
       "array(['0', '2509', '2496', '2515.5', '2470', '2476.5', '2483', '2457',\n",
       "       '2463.5', '2522', '2502.5', '2489.5', '2437.5', '2450.5', '2444',\n",
       "       '2385.5', '2528.5', '2431', '819', '2379', '793', '292.5',\n",
       "       '1280.5', '2151.5', '1911', '422.5', '1748.5', '2405', '5915',\n",
       "       '6162', '4478.5', '4498', '494', '2262', '1670.5', '2015', '19.5',\n",
       "       '2080', '2353', '611', '637', '2255.5', '2301', '6.5', '2002',\n",
       "       '1696.5', '78', '1111.5', '916.5', '2073.5', '143', '1391', '2340',\n",
       "       '2418', '2184', '2047.5', '1033.5', '13', '461.5', '1618.5',\n",
       "       '2138.5', '2392', '1774.5', '903.5', '2372.5', '279.5', '1794',\n",
       "       '2008.5', '1638', '2535', '1742', '1982.5', '1534', '2093', '2366',\n",
       "       '2288', '1781', '1573', '32.5', '357.5', '1898', '2307.5', '2171',\n",
       "       '2398.5', '2327', '1274', '1969.5', '1456', '2314', '1995.5',\n",
       "       '97.5', '2424.5', '975', '2177.5', '2060.5', '1235', '45.5', '676',\n",
       "       '1930.5', '1846', '1976', '195', '2320.5', '1352', '2223', '2028',\n",
       "       '2249', '2034.5', '1657.5', '162.5', '1040', '1157', '1137.5',\n",
       "       '2164.5', '1443', '84.5', '2268.5', '2541.5', '2580.5', '4972.5',\n",
       "       '4901', '4823', '4946.5', '4868.5', '4933.5', '4875', '4855.5',\n",
       "       '4849', '4920.5', '4927', '4888', '4842.5', '4914', '4816.5',\n",
       "       '4894.5', '4803.5', '4790.5', '4797', '4836', '4862', '4777.5',\n",
       "       '4764.5', '4738.5', '4810', '4732', '3490.5', '2788.5', '4907.5',\n",
       "       '4940', '4829.5', '4771', '4758', '4751.5', '2554.5', '4881.5',\n",
       "       '4784', '26', '4693', '4381', '2866.5', '4745', '4186', '1449.5',\n",
       "       '5018', '4992', '4966', '4953', '4998.5', '3939', '4563', '4530.5',\n",
       "       '4329', '4979', '4959.5', '4290', '3705', '3516.5', '4056', '4641',\n",
       "       '6298.5', '6493.5', '6500', '6487', '6435', '6292', '6207.5',\n",
       "       '4680', '4660.5', '4667', '4725.5', '4654', '4634.5', '4673.5',\n",
       "       '4589', '4985.5', '5011.5', '4719', '4712.5', '754', '4225', '52',\n",
       "       '3269.5', '1943.5', '4088.5', '3139.5', '5031', '5044', '5037.5',\n",
       "       '3776.5', '6266', '6480.5', '6409', '6214', '6305', '6311.5',\n",
       "       '4686.5', '4699.5', '4628', '2411.5', '2548', '3055', '4472',\n",
       "       '5005', '2561', '2600', '5024.5', '4706', '2905.5', '4387.5',\n",
       "       '2294.5', '2197', '4615', '2574', '3627', '2639', '1469', '4621.5',\n",
       "       '1703', '2216.5', '4439.5', '3464.5', '2210', '3146', '2567.5',\n",
       "       '273', '2086.5', '2964', '4465.5', '2775.5', '949', '3698.5',\n",
       "       '2359.5', '2606.5', '962', '1891.5', '3029', '1313', '299',\n",
       "       '2346.5', '2333.5', '767', '3471', '1462.5', '4537', '4524', '351',\n",
       "       '1664', '1027', '2021.5', '2203.5', '552.5', '247', '1495', '2236',\n",
       "       '533', '2106', '526.5', '877.5', '260', '851.5', '806', '1326',\n",
       "       '2125.5', '1950', '1254.5', '604.5', '1371.5', '403', '1833',\n",
       "       '1267.5', '2132', '780', '1989', '1560', '513.5', '2112.5', '1118',\n",
       "       '1677', '4348.5', '4511', '4459', '58.5', '1924', '1859', '1410.5',\n",
       "       '1807', '2067', '1319.5', '1761.5', '1378', '1196', '968.5',\n",
       "       '188.5', '1729', '1865.5', '1261', '760.5', '1690', '1365', '286',\n",
       "       '435.5', '2281.5', '1644.5', '1527.5', '825.5', '572', '1709.5',\n",
       "       '221', '1755', '2054', '1605.5', '1586', '565.5', '1579.5',\n",
       "       '1852.5', '4556.5', '4485', '2158', '448.5', '1053', '1599',\n",
       "       '2119', '1547', '1183', '377', '1430', '1020.5', '39', '208',\n",
       "       '871', '799.5', '546', '71.5', '1189.5', '1800.5', '591.5',\n",
       "       '1085.5', '227.5', '728', '1287', '149.5', '838.5', '331.5',\n",
       "       '1163.5', '617.5', '1956.5', '2242.5', '1241.5', '481', '2099.5',\n",
       "       '65', '520', '2275', '1007.5', '1735.5', '578.5', '708.5', '136.5',\n",
       "       '663', '1716', '630.5', '1176.5', '2190.5', '994.5', '1215.5',\n",
       "       '1384.5', '1001', '1553.5', '1631.5', '3347.5', '2912', '3178.5',\n",
       "       '1592.5', '117', '1787.5', '4114.5', '4394', '4244.5', '4322.5',\n",
       "       '4608.5', '2704', '2925', '2613', '5050.5', '5057', '4192.5',\n",
       "       '5063.5', '1540.5', '1222', '4140.5', '2671.5', '624', '4374.5',\n",
       "       '3568.5', '2723.5', '2931.5', '2827.5', '4309.5', '3607.5',\n",
       "       '2970.5', '1826.5', '4452.5', '2145', '4212', '2587', '4595.5',\n",
       "       '4407', '3250', '4491.5', '4335.5', '4582.5', '2957.5', '2665',\n",
       "       '3120'], dtype=object)"
      ]
     },
     "execution_count": 16,
     "metadata": {},
     "output_type": "execute_result"
    }
   ],
   "source": [
    "df_discharge[2].unique()"
   ]
  },
  {
   "cell_type": "code",
   "execution_count": 17,
   "id": "703c6102",
   "metadata": {},
   "outputs": [],
   "source": [
    "df_discharge = df_discharge.rename(columns={0:'sensor_name', 1:'timestamp', 2:'values'})"
   ]
  },
  {
   "cell_type": "code",
   "execution_count": 18,
   "id": "6a936064",
   "metadata": {},
   "outputs": [],
   "source": [
    "df_discharge = df_discharge.reset_index(drop=True)"
   ]
  },
  {
   "cell_type": "code",
   "execution_count": 19,
   "id": "863b9f00",
   "metadata": {},
   "outputs": [
    {
     "data": {
      "text/html": [
       "<div>\n",
       "<style scoped>\n",
       "    .dataframe tbody tr th:only-of-type {\n",
       "        vertical-align: middle;\n",
       "    }\n",
       "\n",
       "    .dataframe tbody tr th {\n",
       "        vertical-align: top;\n",
       "    }\n",
       "\n",
       "    .dataframe thead th {\n",
       "        text-align: right;\n",
       "    }\n",
       "</style>\n",
       "<table border=\"1\" class=\"dataframe\">\n",
       "  <thead>\n",
       "    <tr style=\"text-align: right;\">\n",
       "      <th></th>\n",
       "      <th>sensor_name</th>\n",
       "      <th>timestamp</th>\n",
       "      <th>values</th>\n",
       "    </tr>\n",
       "  </thead>\n",
       "  <tbody>\n",
       "    <tr>\n",
       "      <th>0</th>\n",
       "      <td>WPS_MNTVIEW_DISCHARGE_FLOW</td>\n",
       "      <td>04/03/2020 16:24:07</td>\n",
       "      <td>0</td>\n",
       "    </tr>\n",
       "    <tr>\n",
       "      <th>1</th>\n",
       "      <td>WPS_MNTVIEW_DISCHARGE_FLOW</td>\n",
       "      <td>04/03/2020 18:14:36</td>\n",
       "      <td>0</td>\n",
       "    </tr>\n",
       "    <tr>\n",
       "      <th>2</th>\n",
       "      <td>WPS_MNTVIEW_DISCHARGE_FLOW</td>\n",
       "      <td>04/03/2020 18:34:41</td>\n",
       "      <td>0</td>\n",
       "    </tr>\n",
       "    <tr>\n",
       "      <th>3</th>\n",
       "      <td>WPS_MNTVIEW_DISCHARGE_FLOW</td>\n",
       "      <td>04/03/2020 18:34:56</td>\n",
       "      <td>2509</td>\n",
       "    </tr>\n",
       "    <tr>\n",
       "      <th>4</th>\n",
       "      <td>WPS_MNTVIEW_DISCHARGE_FLOW</td>\n",
       "      <td>04/03/2020 18:51:16</td>\n",
       "      <td>2509</td>\n",
       "    </tr>\n",
       "  </tbody>\n",
       "</table>\n",
       "</div>"
      ],
      "text/plain": [
       "                  sensor_name            timestamp values\n",
       "0  WPS_MNTVIEW_DISCHARGE_FLOW  04/03/2020 16:24:07      0\n",
       "1  WPS_MNTVIEW_DISCHARGE_FLOW  04/03/2020 18:14:36      0\n",
       "2  WPS_MNTVIEW_DISCHARGE_FLOW  04/03/2020 18:34:41      0\n",
       "3  WPS_MNTVIEW_DISCHARGE_FLOW  04/03/2020 18:34:56   2509\n",
       "4  WPS_MNTVIEW_DISCHARGE_FLOW  04/03/2020 18:51:16   2509"
      ]
     },
     "execution_count": 19,
     "metadata": {},
     "output_type": "execute_result"
    }
   ],
   "source": [
    "df_discharge.head()"
   ]
  },
  {
   "cell_type": "code",
   "execution_count": 20,
   "id": "7e8ebc38",
   "metadata": {},
   "outputs": [],
   "source": [
    "df_discharge['timestamp'] = pd.to_datetime(df_discharge['timestamp'])"
   ]
  },
  {
   "cell_type": "code",
   "execution_count": 21,
   "id": "82737e4f",
   "metadata": {},
   "outputs": [
    {
     "data": {
      "text/html": [
       "<div>\n",
       "<style scoped>\n",
       "    .dataframe tbody tr th:only-of-type {\n",
       "        vertical-align: middle;\n",
       "    }\n",
       "\n",
       "    .dataframe tbody tr th {\n",
       "        vertical-align: top;\n",
       "    }\n",
       "\n",
       "    .dataframe thead th {\n",
       "        text-align: right;\n",
       "    }\n",
       "</style>\n",
       "<table border=\"1\" class=\"dataframe\">\n",
       "  <thead>\n",
       "    <tr style=\"text-align: right;\">\n",
       "      <th></th>\n",
       "      <th>sensor_name</th>\n",
       "      <th>timestamp</th>\n",
       "      <th>values</th>\n",
       "    </tr>\n",
       "  </thead>\n",
       "  <tbody>\n",
       "    <tr>\n",
       "      <th>0</th>\n",
       "      <td>WPS_MNTVIEW_DISCHARGE_FLOW</td>\n",
       "      <td>2020-04-03 16:24:07</td>\n",
       "      <td>0</td>\n",
       "    </tr>\n",
       "    <tr>\n",
       "      <th>1</th>\n",
       "      <td>WPS_MNTVIEW_DISCHARGE_FLOW</td>\n",
       "      <td>2020-04-03 18:14:36</td>\n",
       "      <td>0</td>\n",
       "    </tr>\n",
       "    <tr>\n",
       "      <th>2</th>\n",
       "      <td>WPS_MNTVIEW_DISCHARGE_FLOW</td>\n",
       "      <td>2020-04-03 18:34:41</td>\n",
       "      <td>0</td>\n",
       "    </tr>\n",
       "    <tr>\n",
       "      <th>3</th>\n",
       "      <td>WPS_MNTVIEW_DISCHARGE_FLOW</td>\n",
       "      <td>2020-04-03 18:34:56</td>\n",
       "      <td>2509</td>\n",
       "    </tr>\n",
       "    <tr>\n",
       "      <th>4</th>\n",
       "      <td>WPS_MNTVIEW_DISCHARGE_FLOW</td>\n",
       "      <td>2020-04-03 18:51:16</td>\n",
       "      <td>2509</td>\n",
       "    </tr>\n",
       "  </tbody>\n",
       "</table>\n",
       "</div>"
      ],
      "text/plain": [
       "                  sensor_name           timestamp values\n",
       "0  WPS_MNTVIEW_DISCHARGE_FLOW 2020-04-03 16:24:07      0\n",
       "1  WPS_MNTVIEW_DISCHARGE_FLOW 2020-04-03 18:14:36      0\n",
       "2  WPS_MNTVIEW_DISCHARGE_FLOW 2020-04-03 18:34:41      0\n",
       "3  WPS_MNTVIEW_DISCHARGE_FLOW 2020-04-03 18:34:56   2509\n",
       "4  WPS_MNTVIEW_DISCHARGE_FLOW 2020-04-03 18:51:16   2509"
      ]
     },
     "execution_count": 21,
     "metadata": {},
     "output_type": "execute_result"
    }
   ],
   "source": [
    "df_discharge.head()"
   ]
  },
  {
   "cell_type": "code",
   "execution_count": 22,
   "id": "ed6f20b0",
   "metadata": {},
   "outputs": [
    {
     "name": "stdout",
     "output_type": "stream",
     "text": [
      "<class 'pandas.core.frame.DataFrame'>\n",
      "RangeIndex: 205762 entries, 0 to 205761\n",
      "Data columns (total 3 columns):\n",
      " #   Column       Non-Null Count   Dtype         \n",
      "---  ------       --------------   -----         \n",
      " 0   sensor_name  205762 non-null  object        \n",
      " 1   timestamp    205762 non-null  datetime64[ns]\n",
      " 2   values       205762 non-null  object        \n",
      "dtypes: datetime64[ns](1), object(2)\n",
      "memory usage: 4.7+ MB\n"
     ]
    }
   ],
   "source": [
    "df_discharge.info()"
   ]
  },
  {
   "cell_type": "code",
   "execution_count": 23,
   "id": "e6ccec77",
   "metadata": {},
   "outputs": [],
   "source": [
    "df_discharge = df_discharge.drop(columns=['sensor_name'])"
   ]
  },
  {
   "cell_type": "code",
   "execution_count": 24,
   "id": "0e882cb4",
   "metadata": {},
   "outputs": [
    {
     "data": {
      "text/html": [
       "<div>\n",
       "<style scoped>\n",
       "    .dataframe tbody tr th:only-of-type {\n",
       "        vertical-align: middle;\n",
       "    }\n",
       "\n",
       "    .dataframe tbody tr th {\n",
       "        vertical-align: top;\n",
       "    }\n",
       "\n",
       "    .dataframe thead th {\n",
       "        text-align: right;\n",
       "    }\n",
       "</style>\n",
       "<table border=\"1\" class=\"dataframe\">\n",
       "  <thead>\n",
       "    <tr style=\"text-align: right;\">\n",
       "      <th></th>\n",
       "      <th>timestamp</th>\n",
       "      <th>values</th>\n",
       "    </tr>\n",
       "  </thead>\n",
       "  <tbody>\n",
       "    <tr>\n",
       "      <th>0</th>\n",
       "      <td>2020-04-03 16:24:07</td>\n",
       "      <td>0</td>\n",
       "    </tr>\n",
       "    <tr>\n",
       "      <th>1</th>\n",
       "      <td>2020-04-03 18:14:36</td>\n",
       "      <td>0</td>\n",
       "    </tr>\n",
       "    <tr>\n",
       "      <th>2</th>\n",
       "      <td>2020-04-03 18:34:41</td>\n",
       "      <td>0</td>\n",
       "    </tr>\n",
       "    <tr>\n",
       "      <th>3</th>\n",
       "      <td>2020-04-03 18:34:56</td>\n",
       "      <td>2509</td>\n",
       "    </tr>\n",
       "    <tr>\n",
       "      <th>4</th>\n",
       "      <td>2020-04-03 18:51:16</td>\n",
       "      <td>2509</td>\n",
       "    </tr>\n",
       "  </tbody>\n",
       "</table>\n",
       "</div>"
      ],
      "text/plain": [
       "            timestamp values\n",
       "0 2020-04-03 16:24:07      0\n",
       "1 2020-04-03 18:14:36      0\n",
       "2 2020-04-03 18:34:41      0\n",
       "3 2020-04-03 18:34:56   2509\n",
       "4 2020-04-03 18:51:16   2509"
      ]
     },
     "execution_count": 24,
     "metadata": {},
     "output_type": "execute_result"
    }
   ],
   "source": [
    "df_discharge.head()"
   ]
  },
  {
   "cell_type": "markdown",
   "id": "19e0b3af",
   "metadata": {},
   "source": [
    "I need to convert the values to type float:"
   ]
  },
  {
   "cell_type": "code",
   "execution_count": 25,
   "id": "2ff2ed1b",
   "metadata": {},
   "outputs": [],
   "source": [
    "df_discharge['values'] = df_discharge['values'].astype('float')"
   ]
  },
  {
   "cell_type": "markdown",
   "id": "ec081ec5",
   "metadata": {},
   "source": [
    "Now I will check for outliers by first looking at a boxplot of the data:"
   ]
  },
  {
   "cell_type": "code",
   "execution_count": 26,
   "id": "6911b176",
   "metadata": {},
   "outputs": [
    {
     "data": {
      "text/plain": [
       "{'whiskers': [<matplotlib.lines.Line2D at 0x7fc842f4bb50>,\n",
       "  <matplotlib.lines.Line2D at 0x7fc842f4be20>],\n",
       " 'caps': [<matplotlib.lines.Line2D at 0x7fc859af0670>,\n",
       "  <matplotlib.lines.Line2D at 0x7fc841788340>],\n",
       " 'boxes': [<matplotlib.lines.Line2D at 0x7fc842f4b700>],\n",
       " 'medians': [<matplotlib.lines.Line2D at 0x7fc8417886d0>],\n",
       " 'fliers': [<matplotlib.lines.Line2D at 0x7fc841788a60>],\n",
       " 'means': []}"
      ]
     },
     "execution_count": 26,
     "metadata": {},
     "output_type": "execute_result"
    },
    {
     "data": {
      "image/png": "[encoded data removed]",
      "text/plain": [
       "<Figure size 432x288 with 1 Axes>"
      ]
     },
     "metadata": {
      "needs_background": "light"
     },
     "output_type": "display_data"
    }
   ],
   "source": [
    "fig1, ax1 = plt.subplots()\n",
    "ax1.set_title('Discharge Flow BoxPlot')\n",
    "ax1.boxplot(df_discharge['values'])"
   ]
  },
  {
   "cell_type": "markdown",
   "id": "2a40b3ae",
   "metadata": {},
   "source": [
    "And then looking at the distribution of the data to check if the data is skewed"
   ]
  },
  {
   "cell_type": "code",
   "execution_count": 27,
   "id": "498dbc51",
   "metadata": {
    "scrolled": true
   },
   "outputs": [
    {
     "data": {
      "text/plain": [
       "Text(0.5, 0, 'discharge_flow')"
      ]
     },
     "execution_count": 27,
     "metadata": {},
     "output_type": "execute_result"
    },
    {
     "data": {
      "image/png": "[encoded data removed]",
      "text/plain": [
       "<Figure size 432x288 with 1 Axes>"
      ]
     },
     "metadata": {
      "needs_background": "light"
     },
     "output_type": "display_data"
    }
   ],
   "source": [
    "plt.hist(df_discharge['values'], bins=30)\n",
    "plt.ylabel('data')\n",
    "plt.xlabel('discharge_flow')"
   ]
  },
  {
   "cell_type": "markdown",
   "id": "bf75dd62",
   "metadata": {},
   "source": [
    "Because it is skewed, I will use the interquantile range to find outliers"
   ]
  },
  {
   "cell_type": "code",
   "execution_count": 28,
   "id": "575ca4cd",
   "metadata": {},
   "outputs": [
    {
     "name": "stdout",
     "output_type": "stream",
     "text": [
      "Discharge flow outliers are values < 2379.0 or > 2606.5\n"
     ]
    }
   ],
   "source": [
    "IQR = df_discharge['values'].quantile(0.75) - df_discharge['values'].quantile(0.25)\n",
    "Lower_fence = df_discharge['values'].quantile(0.25) - (IQR * 3)\n",
    "Upper_fence = df_discharge['values'].quantile(0.75) + (IQR * 3)\n",
    "print('Discharge flow outliers are values < {lowerboundary} or > {upperboundary}'.format(lowerboundary=Lower_fence, upperboundary=Upper_fence))"
   ]
  },
  {
   "cell_type": "markdown",
   "id": "964684c7",
   "metadata": {},
   "source": [
    "I will group by a certain timestamp interval to get consistent timestamps"
   ]
  },
  {
   "cell_type": "code",
   "execution_count": 29,
   "id": "38444f5e",
   "metadata": {},
   "outputs": [],
   "source": [
    "df_dis_group = df_discharge.groupby(pd.Grouper(key='timestamp', freq='H')).mean()"
   ]
  },
  {
   "cell_type": "code",
   "execution_count": 30,
   "id": "c0691137",
   "metadata": {},
   "outputs": [],
   "source": [
    "df_dis_group.reset_index(inplace=True)"
   ]
  },
  {
   "cell_type": "markdown",
   "id": "4f5e7642",
   "metadata": {},
   "source": [
    "Now I will fill missing values with the mean value between rows:"
   ]
  },
  {
   "cell_type": "code",
   "execution_count": 31,
   "id": "6205a47a",
   "metadata": {},
   "outputs": [],
   "source": [
    "df_dis_group['values'] = pd.concat([df_dis_group['values'].ffill(), df_dis_group['values'].bfill()]).groupby(level=0).mean()"
   ]
  },
  {
   "cell_type": "code",
   "execution_count": 32,
   "id": "49675f51",
   "metadata": {},
   "outputs": [
    {
     "name": "stdout",
     "output_type": "stream",
     "text": [
      "<class 'pandas.core.frame.DataFrame'>\n",
      "RangeIndex: 11999 entries, 0 to 11998\n",
      "Data columns (total 2 columns):\n",
      " #   Column     Non-Null Count  Dtype         \n",
      "---  ------     --------------  -----         \n",
      " 0   timestamp  11999 non-null  datetime64[ns]\n",
      " 1   values     11999 non-null  float64       \n",
      "dtypes: datetime64[ns](1), float64(1)\n",
      "memory usage: 187.6 KB\n"
     ]
    }
   ],
   "source": [
    "df_dis_group.info()"
   ]
  },
  {
   "cell_type": "code",
   "execution_count": 33,
   "id": "37c6fe84",
   "metadata": {
    "scrolled": true
   },
   "outputs": [
    {
     "data": {
      "text/html": [
       "<div>\n",
       "<style scoped>\n",
       "    .dataframe tbody tr th:only-of-type {\n",
       "        vertical-align: middle;\n",
       "    }\n",
       "\n",
       "    .dataframe tbody tr th {\n",
       "        vertical-align: top;\n",
       "    }\n",
       "\n",
       "    .dataframe thead th {\n",
       "        text-align: right;\n",
       "    }\n",
       "</style>\n",
       "<table border=\"1\" class=\"dataframe\">\n",
       "  <thead>\n",
       "    <tr style=\"text-align: right;\">\n",
       "      <th></th>\n",
       "      <th>timestamp</th>\n",
       "      <th>values</th>\n",
       "    </tr>\n",
       "  </thead>\n",
       "  <tbody>\n",
       "    <tr>\n",
       "      <th>0</th>\n",
       "      <td>2020-04-03 16:00:00</td>\n",
       "      <td>0.000</td>\n",
       "    </tr>\n",
       "    <tr>\n",
       "      <th>1</th>\n",
       "      <td>2020-04-03 17:00:00</td>\n",
       "      <td>751.400</td>\n",
       "    </tr>\n",
       "    <tr>\n",
       "      <th>2</th>\n",
       "      <td>2020-04-03 18:00:00</td>\n",
       "      <td>1502.800</td>\n",
       "    </tr>\n",
       "    <tr>\n",
       "      <th>3</th>\n",
       "      <td>2020-04-03 19:00:00</td>\n",
       "      <td>2505.750</td>\n",
       "    </tr>\n",
       "    <tr>\n",
       "      <th>4</th>\n",
       "      <td>2020-04-03 20:00:00</td>\n",
       "      <td>2500.875</td>\n",
       "    </tr>\n",
       "  </tbody>\n",
       "</table>\n",
       "</div>"
      ],
      "text/plain": [
       "            timestamp    values\n",
       "0 2020-04-03 16:00:00     0.000\n",
       "1 2020-04-03 17:00:00   751.400\n",
       "2 2020-04-03 18:00:00  1502.800\n",
       "3 2020-04-03 19:00:00  2505.750\n",
       "4 2020-04-03 20:00:00  2500.875"
      ]
     },
     "execution_count": 33,
     "metadata": {},
     "output_type": "execute_result"
    }
   ],
   "source": [
    "df_dis_group.head()"
   ]
  },
  {
   "cell_type": "markdown",
   "id": "728739ca",
   "metadata": {},
   "source": [
    "Rename columns to ds and y before using fb prophet to predict forecast"
   ]
  },
  {
   "cell_type": "code",
   "execution_count": 34,
   "id": "3362c654",
   "metadata": {},
   "outputs": [],
   "source": [
    "df_dis_group = df_dis_group.rename(columns={'timestamp':'ds', 'values':'y'})"
   ]
  },
  {
   "cell_type": "code",
   "execution_count": 35,
   "id": "8385b846",
   "metadata": {},
   "outputs": [
    {
     "data": {
      "text/html": [
       "<div>\n",
       "<style scoped>\n",
       "    .dataframe tbody tr th:only-of-type {\n",
       "        vertical-align: middle;\n",
       "    }\n",
       "\n",
       "    .dataframe tbody tr th {\n",
       "        vertical-align: top;\n",
       "    }\n",
       "\n",
       "    .dataframe thead th {\n",
       "        text-align: right;\n",
       "    }\n",
       "</style>\n",
       "<table border=\"1\" class=\"dataframe\">\n",
       "  <thead>\n",
       "    <tr style=\"text-align: right;\">\n",
       "      <th></th>\n",
       "      <th>ds</th>\n",
       "      <th>y</th>\n",
       "    </tr>\n",
       "  </thead>\n",
       "  <tbody>\n",
       "    <tr>\n",
       "      <th>0</th>\n",
       "      <td>2020-04-03 16:00:00</td>\n",
       "      <td>0.000</td>\n",
       "    </tr>\n",
       "    <tr>\n",
       "      <th>1</th>\n",
       "      <td>2020-04-03 17:00:00</td>\n",
       "      <td>751.400</td>\n",
       "    </tr>\n",
       "    <tr>\n",
       "      <th>2</th>\n",
       "      <td>2020-04-03 18:00:00</td>\n",
       "      <td>1502.800</td>\n",
       "    </tr>\n",
       "    <tr>\n",
       "      <th>3</th>\n",
       "      <td>2020-04-03 19:00:00</td>\n",
       "      <td>2505.750</td>\n",
       "    </tr>\n",
       "    <tr>\n",
       "      <th>4</th>\n",
       "      <td>2020-04-03 20:00:00</td>\n",
       "      <td>2500.875</td>\n",
       "    </tr>\n",
       "  </tbody>\n",
       "</table>\n",
       "</div>"
      ],
      "text/plain": [
       "                   ds         y\n",
       "0 2020-04-03 16:00:00     0.000\n",
       "1 2020-04-03 17:00:00   751.400\n",
       "2 2020-04-03 18:00:00  1502.800\n",
       "3 2020-04-03 19:00:00  2505.750\n",
       "4 2020-04-03 20:00:00  2500.875"
      ]
     },
     "execution_count": 35,
     "metadata": {},
     "output_type": "execute_result"
    }
   ],
   "source": [
    "df_dis_group.head()"
   ]
  },
  {
   "cell_type": "markdown",
   "id": "6bcb5695",
   "metadata": {},
   "source": [
    "Attempt to forecast:"
   ]
  },
  {
   "cell_type": "code",
   "execution_count": 36,
   "id": "ad793358",
   "metadata": {},
   "outputs": [
    {
     "name": "stderr",
     "output_type": "stream",
     "text": [
      "INFO:prophet:Disabling yearly seasonality. Run prophet with yearly_seasonality=True to override this.\n"
     ]
    },
    {
     "name": "stdout",
     "output_type": "stream",
     "text": [
      "Initial log joint probability = -386.248\n",
      "    Iter      log prob        ||dx||      ||grad||       alpha      alpha0  # evals  Notes \n",
      "      99       14825.5     0.0515585       434.416           1           1      122   \n",
      "    Iter      log prob        ||dx||      ||grad||       alpha      alpha0  # evals  Notes \n",
      "     199       14851.4     0.0083609       140.698           1           1      244   \n",
      "    Iter      log prob        ||dx||      ||grad||       alpha      alpha0  # evals  Notes \n",
      "     297       14857.1   0.000139893       91.6257   1.062e-06       0.001      420  LS failed, Hessian reset \n",
      "     299       14857.3    0.00251922        54.745           1           1      423   \n",
      "    Iter      log prob        ||dx||      ||grad||       alpha      alpha0  # evals  Notes \n",
      "     333       14858.3   0.000194243       120.379   2.078e-06       0.001      510  LS failed, Hessian reset \n",
      "     399       14858.4   2.05575e-05       58.0587      0.3399           1      607   \n",
      "    Iter      log prob        ||dx||      ||grad||       alpha      alpha0  # evals  Notes \n",
      "     462       14859.4   0.000118617       97.7295     1.6e-06       0.001      735  LS failed, Hessian reset \n",
      "     496       14859.5   2.48491e-05       39.2037   5.965e-07       0.001      821  LS failed, Hessian reset \n",
      "     499       14859.5   2.15683e-05        63.173      0.2241           1      828   \n",
      "    Iter      log prob        ||dx||      ||grad||       alpha      alpha0  # evals  Notes \n",
      "     554       14859.5   7.71198e-07       48.2966      0.2957           1      902   \n",
      "Optimization terminated normally: \n",
      "  Convergence detected: relative gradient magnitude is below tolerance\n"
     ]
    },
    {
     "data": {
      "image/png": "[encoded data removed]",
      "text/plain": [
       "<Figure size 720x432 with 1 Axes>"
      ]
     },
     "metadata": {},
     "output_type": "display_data"
    }
   ],
   "source": [
    "model = Prophet(seasonality_mode='multiplicative')\n",
    "model.fit(df_dis_group)\n",
    "future = model.make_future_dataframe(periods=365 * 1)\n",
    "forecast = model.predict(future)\n",
    "fig = model.plot(forecast)\n",
    "plt.show()"
   ]
  },
  {
   "cell_type": "code",
   "execution_count": null,
   "id": "5892a24b",
   "metadata": {},
   "outputs": [],
   "source": []
  }
 ],
 "metadata": {
  "kernelspec": {
   "display_name": "Python 3 (ipykernel)",
   "language": "python",
   "name": "python3"
  },
  "language_info": {
   "codemirror_mode": {
    "name": "ipython",
    "version": 3
   },
   "file_extension": ".py",
   "mimetype": "text/x-python",
   "name": "python",
   "nbconvert_exporter": "python",
   "pygments_lexer": "ipython3",
   "version": "3.8.11"
  }
 },
 "nbformat": 4,
 "nbformat_minor": 5
}
